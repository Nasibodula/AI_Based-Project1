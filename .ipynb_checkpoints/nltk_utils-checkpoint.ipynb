{
 "cells": [
  {
   "cell_type": "code",
   "execution_count": 3,
   "id": "b4ae5016-684a-4e5a-9528-a74eb3fe96e9",
   "metadata": {},
   "outputs": [
    {
     "name": "stdout",
     "output_type": "stream",
     "text": [
      "['organ', 'organ', 'organ']\n"
     ]
    }
   ],
   "source": [
    "import numpy as np\n",
    "import nltk\n",
    "# nltk.download('punkt')\n",
    "from nltk.stem.porter import PorterStemmer\n",
    "stemmer = PorterStemmer()\n",
    "\n",
    "def tokenize(sentence):\n",
    "\n",
    "    return nltk.word_tokenize(sentence)\n",
    "\n",
    "def stem(word):\n",
    "\n",
    "    return stemmer.stem(word.lower())\n",
    "\n",
    "def bag_of_words(tokenized_sentence, all_words):\n",
    "    pass\n",
    "\n",
    "words=[\"organize\", \"organizes\", \"organizing\"]\n",
    "stemmed_words = [stem(w) for w in words]\n",
    "print(stemmed_words)\n",
    "\n",
    "    # sentence_words = [stem(word) for word in tokenized_sentence]\n",
    "    # # initialize bag with 0 for each word\n",
    "    # bag = np.zeros(len(words), dtype=np.float32)\n",
    "    # for idx, w in enumerate(words):\n",
    "    #     if w in sentence_words: \n",
    "    #         bag[idx] = 1\n",
    "\n",
    "    # return bag"
   ]
  },
  {
   "cell_type": "code",
   "execution_count": null,
   "id": "ed00b4a6-a108-4991-a1a0-9049f908c8d8",
   "metadata": {},
   "outputs": [],
   "source": []
  }
 ],
 "metadata": {
  "kernelspec": {
   "display_name": "Python 3 (ipykernel)",
   "language": "python",
   "name": "python3"
  },
  "language_info": {
   "codemirror_mode": {
    "name": "ipython",
    "version": 3
   },
   "file_extension": ".py",
   "mimetype": "text/x-python",
   "name": "python",
   "nbconvert_exporter": "python",
   "pygments_lexer": "ipython3",
   "version": "3.9.12"
  }
 },
 "nbformat": 4,
 "nbformat_minor": 5
}
